{
 "cells": [
  {
   "cell_type": "code",
   "execution_count": 7,
   "metadata": {
    "collapsed": true
   },
   "outputs": [],
   "source": [
    "import warnings\n",
    "warnings.filterwarnings(\"ignore\")\n",
    "import numpy as np\n",
    "import pandas as pd\n",
    "import datetime\n",
    "import sqlite3\n",
    "from IPython.core.display import HTML\n",
    "from PIL import Image\n",
    "import matplotlib.pyplot as plt\n",
    "from sklearn.feature_extraction.text import CountVectorizer\n",
    "from sklearn.metrics import accuracy_score\n",
    "from sklearn.cross_validation import cross_val_score\n",
    "from sklearn import cross_validation\n",
    "from sklearn.naive_bayes import BernoulliNB\n",
    "from sklearn.feature_extraction.text import TfidfTransformer\n",
    "from sklearn.feature_extraction.text import TfidfVectorizer\n",
    "from sklearn.metrics import f1_score\n",
    "from sklearn.metrics import confusion_matrix\n",
    "from sklearn.metrics import precision_recall_curve\n",
    "from sklearn.metrics import average_precision_score\n",
    "from sklearn.metrics import accuracy_score, f1_score, precision_score, recall_score, classification_report, confusion_matrix\n"
   ]
  },
  {
   "cell_type": "code",
   "execution_count": 2,
   "metadata": {
    "collapsed": true
   },
   "outputs": [],
   "source": [
    "#utility functions\n",
    "#timeSplit function will seperate data in 70-30%\n",
    "def timeSplit(data):\n",
    "    noOfRows=data.shape[0]\n",
    "    seperatePoint= int(noOfRows * 0.70)\n",
    "    train_review_x=data[:seperatePoint,:]\n",
    "    test_review_x=data[seperatePoint:,:]\n",
    "    train_label_y=data_sample['Score'].iloc[:seperatePoint]\n",
    "    test_label_y=data_sample['Score'].iloc[seperatePoint:]\n",
    "    return train_review_x,test_review_x,train_label_y,test_label_y"
   ]
  },
  {
   "cell_type": "code",
   "execution_count": 3,
   "metadata": {
    "collapsed": true
   },
   "outputs": [],
   "source": [
    "#connection to already cleaned data which we have done in previous assignments and selection of data time wise \n",
    "#so we can easily do time based splitting\n",
    "conn = sqlite3.connect('finalData.sqlite')\n",
    "data_sample = pd.read_sql_query(\"select * from REVIEWS order by Time\",conn)"
   ]
  },
  {
   "cell_type": "code",
   "execution_count": 4,
   "metadata": {
    "collapsed": true
   },
   "outputs": [],
   "source": [
    "#changing class label to numeric from character\n",
    "data_sample[\"Score\"]= data_sample[\"Score\"].replace({'p':1,'n':0})"
   ]
  },
  {
   "cell_type": "code",
   "execution_count": 5,
   "metadata": {
    "collapsed": true
   },
   "outputs": [],
   "source": [
    "#BoW of cleaned text column in clean data\n",
    "count_vect = CountVectorizer() #in scikit-learn\n",
    "bow_counts = count_vect.fit_transform(data_sample['CleanedText'])\n"
   ]
  },
  {
   "cell_type": "code",
   "execution_count": 6,
   "metadata": {
    "collapsed": true
   },
   "outputs": [],
   "source": [
    "\n",
    "train_review_x,test_review_x,train_label_y,test_label_y=timeSplit(bow_counts)\n",
    "# print(\"train_review_x :: \",train_review_x.shape)\n",
    "# print(\"test_review_x :: \",test_review_x.shape)\n",
    "# print(\"train_label_y :: \",train_label_y.shape)\n",
    "# print(\"test_label_y :: \",test_label_y.shape)"
   ]
  },
  {
   "cell_type": "code",
   "execution_count": 7,
   "metadata": {},
   "outputs": [
    {
     "name": "stdout",
     "output_type": "stream",
     "text": [
      "optimal_alpha 0.001\n"
     ]
    }
   ],
   "source": [
    "#10-fold cross validation for finding optimal alpha\n",
    "cv_scores = [-1]\n",
    "listNumber=[]\n",
    "def rangfunc(start,stop,step):    \n",
    "    \n",
    "    r = start\n",
    "    optimal_alpha=-1\n",
    "    while r < stop:\n",
    "        listNumber.append(r)\n",
    "        classDemo = BernoulliNB(alpha=r) \n",
    "        scores = cross_val_score(classDemo, train_review_x, train_label_y, cv=10, scoring='accuracy')\n",
    "        scores_mean=scores.mean()\n",
    "        if(scores_mean>max(cv_scores)):\n",
    "            optimal_alpha=r\n",
    "        cv_scores.append(scores_mean)\n",
    "        r += step\n",
    "    return optimal_alpha\n",
    "v=rangfunc(0.001,10,0.1)\n",
    "print(\"optimal_alpha\",v)\n"
   ]
  },
  {
   "cell_type": "code",
   "execution_count": 8,
   "metadata": {},
   "outputs": [
    {
     "data": {
      "text/plain": [
       "-1"
      ]
     },
     "execution_count": 8,
     "metadata": {},
     "output_type": "execute_result"
    }
   ],
   "source": [
    "cv_scores.pop(0)"
   ]
  },
  {
   "cell_type": "code",
   "execution_count": 9,
   "metadata": {},
   "outputs": [
    {
     "data": {
      "image/png": "[encoded data removed]",
      "text/plain": [
       "<matplotlib.figure.Figure at 0x27261b7cc88>"
      ]
     },
     "metadata": {},
     "output_type": "display_data"
    }
   ],
   "source": [
    "#graph of hyperparameter alpha versus accuracy\n",
    "plt.plot(listNumber, cv_scores)\n",
    "\n",
    "# for xy in zip(listNumber, np.round(cv_scores,3)):\n",
    "#     plt.annotate('(%s, %s)' % xy, xy=xy, textcoords='data')\n",
    "\n",
    "plt.xlabel('Hyperparameter alpha')\n",
    "plt.ylabel('accuracy')\n",
    "plt.show()"
   ]
  },
  {
   "cell_type": "markdown",
   "metadata": {},
   "source": [
    "<b>as the hyper parameter value increasing accuracy is decreasing.</b>"
   ]
  },
  {
   "cell_type": "code",
   "execution_count": 10,
   "metadata": {},
   "outputs": [
    {
     "data": {
      "text/plain": [
       "BernoulliNB(alpha=0.001, binarize=0.0, class_prior=None, fit_prior=True)"
      ]
     },
     "execution_count": 10,
     "metadata": {},
     "output_type": "execute_result"
    }
   ],
   "source": [
    "actualDemo = BernoulliNB(alpha=0.001) \n",
    "actualDemo.fit(train_review_x,np.array(train_label_y))"
   ]
  },
  {
   "cell_type": "code",
   "execution_count": 11,
   "metadata": {
    "collapsed": true
   },
   "outputs": [],
   "source": [
    "predicted= actualDemo.predict(test_review_x)"
   ]
  },
  {
   "cell_type": "code",
   "execution_count": 12,
   "metadata": {},
   "outputs": [
    {
     "data": {
      "text/plain": [
       "0.8743821623402775"
      ]
     },
     "execution_count": 12,
     "metadata": {},
     "output_type": "execute_result"
    }
   ],
   "source": [
    "accuracy_score(test_label_y, predicted)"
   ]
  },
  {
   "cell_type": "markdown",
   "metadata": {},
   "source": [
    "<b>accuracy_score for bag of words with alpha 0.001  is 0.874</b>"
   ]
  },
  {
   "cell_type": "code",
   "execution_count": 13,
   "metadata": {},
   "outputs": [
    {
     "data": {
      "text/plain": [
       "0.9237284367775208"
      ]
     },
     "execution_count": 13,
     "metadata": {},
     "output_type": "execute_result"
    }
   ],
   "source": [
    "f1_score(test_label_y, predicted)"
   ]
  },
  {
   "cell_type": "markdown",
   "metadata": {},
   "source": [
    "<b>f1 score for bag of words is 0.923</b>"
   ]
  },
  {
   "cell_type": "code",
   "execution_count": 53,
   "metadata": {},
   "outputs": [
    {
     "name": "stdout",
     "output_type": "stream",
     "text": [
      "precesion for BOW with alpha 0.001 is 0.7816340101146917\n",
      "Recall for BOW with alpha 0.001 is 0.7863314824730137\n"
     ]
    }
   ],
   "source": [
    "print(\"precesion for BOW with alpha 0.001 is\",precision_score(test_label_y, predicted, average=\"macro\"))\n",
    "print(\"Recall for BOW with alpha 0.001 is\",recall_score(test_label_y, predicted, average=\"macro\"))  "
   ]
  },
  {
   "cell_type": "code",
   "execution_count": 14,
   "metadata": {},
   "outputs": [
    {
     "data": {
      "text/plain": [
       "array([[12422,  6659],\n",
       "       [ 7065, 83106]], dtype=int64)"
      ]
     },
     "execution_count": 14,
     "metadata": {},
     "output_type": "execute_result"
    }
   ],
   "source": [
    "confusion_matrix(test_label_y, predicted)"
   ]
  },
  {
   "cell_type": "code",
   "execution_count": 15,
   "metadata": {},
   "outputs": [
    {
     "data": {
      "text/plain": [
       "array([12422,  6659,  7065, 83106], dtype=int64)"
      ]
     },
     "execution_count": 15,
     "metadata": {},
     "output_type": "execute_result"
    }
   ],
   "source": [
    "confusion_matrix(test_label_y, predicted).ravel()"
   ]
  },
  {
   "cell_type": "code",
   "execution_count": 52,
   "metadata": {},
   "outputs": [
    {
     "data": {
      "image/png": "[encoded data removed]",
      "text/plain": [
       "<matplotlib.figure.Figure at 0x27273bd3048>"
      ]
     },
     "metadata": {},
     "output_type": "display_data"
    }
   ],
   "source": [
    "average_precision = average_precision_score(test_label_y, predicted)\n",
    "precision, recall, _ = precision_recall_curve(test_label_y, predicted)\n",
    "\n",
    "plt.step(recall, precision, color='b', alpha=0.2,\n",
    "         where='post')\n",
    "plt.fill_between(recall, precision, step='post', alpha=0.2,\n",
    "                 color='b')\n",
    "\n",
    "plt.xlabel('Recall')\n",
    "plt.ylabel('Precision')\n",
    "plt.ylim([0.0, 1.05])\n",
    "plt.xlim([0.0, 1.0])\n",
    "plt.title('Precision-Recall curve: AP={0:0.2f}'.format(\n",
    "          average_precision))\n",
    "plt.show()\n"
   ]
  },
  {
   "cell_type": "code",
   "execution_count": 37,
   "metadata": {
    "collapsed": true
   },
   "outputs": [],
   "source": [
    "def important_features(vectorizer,classifier,n=20):\n",
    "        class_labels = classifier.classes_\n",
    "        feature_names =vectorizer.get_feature_names()\n",
    "        topn_class1 = sorted(zip(classifier.feature_count_[0], feature_names),reverse=True)[:n]\n",
    "        topn_class2 = sorted(zip(classifier.feature_count_[1], feature_names),reverse=True)[:n]\n",
    "        print(\"Important words in negative reviews\")\n",
    "        for coef, feat in topn_class1:\n",
    "            print(class_labels[0], coef, feat)\n",
    "        print(\"-----------------------------------------\")\n",
    "        print(\"Important words in positive reviews\")\n",
    "        for coef, feat in topn_class2:\n",
    "            print(class_labels[1], coef, feat) "
   ]
  },
  {
   "cell_type": "markdown",
   "metadata": {},
   "source": [
    "<b>Important features in BOW.</b>"
   ]
  },
  {
   "cell_type": "code",
   "execution_count": 42,
   "metadata": {},
   "outputs": [
    {
     "name": "stdout",
     "output_type": "stream",
     "text": [
      "Important words in negative reviews\n",
      "0 14212.0 tast\n",
      "0 13957.0 like\n",
      "0 11298.0 product\n",
      "0 9807.0 one\n",
      "0 9183.0 would\n",
      "0 8750.0 tri\n",
      "0 8100.0 flavor\n",
      "0 8048.0 good\n",
      "0 7584.0 buy\n",
      "0 7171.0 get\n",
      "-----------------------------------------\n",
      "Important words in positive reviews\n",
      "1 65877.0 like\n",
      "1 64408.0 tast\n",
      "1 60613.0 love\n",
      "1 60171.0 good\n",
      "1 59088.0 great\n",
      "1 51578.0 flavor\n",
      "1 49633.0 one\n",
      "1 48724.0 use\n",
      "1 46578.0 tri\n",
      "1 45059.0 product\n"
     ]
    }
   ],
   "source": [
    "important_features(count_vect,actualDemo, n=10)"
   ]
  },
  {
   "cell_type": "markdown",
   "metadata": {},
   "source": [
    "<b>Naive Bayes with TF-IDF</b>"
   ]
  },
  {
   "cell_type": "code",
   "execution_count": 17,
   "metadata": {
    "collapsed": true
   },
   "outputs": [],
   "source": [
    "\n",
    "tf_idf_vect = TfidfVectorizer(ngram_range=(1,2))\n",
    "final_tf_idf = tf_idf_vect.fit_transform(data_sample['CleanedText'])\n"
   ]
  },
  {
   "cell_type": "code",
   "execution_count": 18,
   "metadata": {
    "collapsed": true
   },
   "outputs": [],
   "source": [
    "train_review_xt,test_review_xt,train_label_yt,test_label_yt=timeSplit(final_tf_idf)"
   ]
  },
  {
   "cell_type": "code",
   "execution_count": 19,
   "metadata": {},
   "outputs": [
    {
     "name": "stdout",
     "output_type": "stream",
     "text": [
      "optimal_alpha 0.001\n"
     ]
    }
   ],
   "source": [
    "#10-fold cross validation for finding optimal alpha(tf-idf)\n",
    "cv_scores_tfidf = [-1]\n",
    "listNumber_tfidf=[]\n",
    "def rangfunc(start,stop,step):    \n",
    "    \n",
    "    r = start\n",
    "    optimal_alpha_tfidf=-1\n",
    "    while r < stop:\n",
    "        listNumber_tfidf.append(r)\n",
    "        classDemotfidf = BernoulliNB(alpha=r) \n",
    "        scores_tfidf = cross_val_score(classDemotfidf, train_review_xt, train_label_yt, cv=10, scoring='accuracy')\n",
    "        scores_mean_tfidf=scores_tfidf.mean()\n",
    "        if(scores_mean_tfidf>max(cv_scores_tfidf)):\n",
    "            optimal_alpha_tfidf=r\n",
    "        cv_scores_tfidf.append(scores_mean_tfidf)\n",
    "        r += step\n",
    "    return optimal_alpha_tfidf\n",
    "opt_v=rangfunc(0.001,10,0.1)\n",
    "print(\"optimal_alpha\",opt_v)"
   ]
  },
  {
   "cell_type": "code",
   "execution_count": 20,
   "metadata": {},
   "outputs": [
    {
     "data": {
      "text/plain": [
       "[0.900152597985759,\n",
       " 0.8685503936332359,\n",
       " 0.8598339107916748,\n",
       " 0.8545694941125632,\n",
       " 0.8507722120697162,\n",
       " 0.8478536361488791,\n",
       " 0.8464375014430996,\n",
       " 0.8456568599176938,\n",
       " 0.8447349985404806,\n",
       " 0.8440249667870889,\n",
       " 0.8436562205741961,\n",
       " 0.8434483117491192,\n",
       " 0.8436993730593871,\n",
       " 0.8441230370776077,\n",
       " 0.8443858654007981,\n",
       " 0.8447585321046567,\n",
       " 0.8451665055411975,\n",
       " 0.8455509426435496,\n",
       " 0.8459746058923224,\n",
       " 0.8462962762051566,\n",
       " 0.8466140241803499,\n",
       " 0.8468847004105029,\n",
       " 0.847127915198814,\n",
       " 0.8473789751240753,\n",
       " 0.8475476564177253,\n",
       " 0.8478026391422964,\n",
       " 0.8479909342786044,\n",
       " 0.848234148143578,\n",
       " 0.8483989064840285,\n",
       " 0.8484655934567332,\n",
       " 0.8485675862387826,\n",
       " 0.8487244985189453,\n",
       " 0.8488500279429623,\n",
       " 0.8489598664775204,\n",
       " 0.8490893191625158,\n",
       " 0.849175621055106,\n",
       " 0.8493286102281798,\n",
       " 0.8493835297262933,\n",
       " 0.8494423720237163,\n",
       " 0.849556133357584,\n",
       " 0.8496698949992307,\n",
       " 0.8497287380661016,\n",
       " 0.8498032717146525,\n",
       " 0.8498503456141467,\n",
       " 0.8499131107108792,\n",
       " 0.8499680299012133,\n",
       " 0.8500151034929285,\n",
       " 0.8500386405965651,\n",
       " 0.8501210198437352,\n",
       " 0.8501563251914112,\n",
       " 0.8501877075858879,\n",
       " 0.8502112445356349,\n",
       " 0.8502387039769126,\n",
       " 0.8502779319700083,\n",
       " 0.850289700367937,\n",
       " 0.8502857775686274,\n",
       " 0.8502700862174996,\n",
       " 0.8503093143644851,\n",
       " 0.850325005715613,\n",
       " 0.8503406969128513,\n",
       " 0.8503877705045664,\n",
       " 0.8503760021066376,\n",
       " 0.8504113073004238,\n",
       " 0.8503956161031855,\n",
       " 0.8504152304075128,\n",
       " 0.8504113076082032,\n",
       " 0.8504113076082029,\n",
       " 0.8504309219125302,\n",
       " 0.8504387673572597,\n",
       " 0.8504505357551885,\n",
       " 0.8504505357551885,\n",
       " 0.8504583813538076,\n",
       " 0.850474072551046,\n",
       " 0.8504858409489747,\n",
       " 0.8504897635943948,\n",
       " 0.8505093778987218,\n",
       " 0.8505250690959603,\n",
       " 0.8505486058918177,\n",
       " 0.8505642973968353,\n",
       " 0.8505682201961449,\n",
       " 0.850579988747963,\n",
       " 0.8505878343465824,\n",
       " 0.850595679791312,\n",
       " 0.8506152939417493,\n",
       " 0.8506270623396782,\n",
       " 0.8506309849850983,\n",
       " 0.8506388305837174,\n",
       " 0.850642753383027,\n",
       " 0.8506584445802654,\n",
       " 0.850670212978194,\n",
       " 0.8506780585768132,\n",
       " 0.8506780584229237,\n",
       " 0.8506859040215428,\n",
       " 0.8506859040215428,\n",
       " 0.8506859040215428,\n",
       " 0.8506898268208525,\n",
       " 0.8506937496201621,\n",
       " 0.8506937496201621,\n",
       " 0.8506937496201619,\n",
       " 0.8506898268208524]"
      ]
     },
     "execution_count": 20,
     "metadata": {},
     "output_type": "execute_result"
    }
   ],
   "source": [
    "cv_scores_tfidf.pop(0)\n",
    "cv_scores_tfidf"
   ]
  },
  {
   "cell_type": "code",
   "execution_count": 21,
   "metadata": {},
   "outputs": [
    {
     "data": {
      "image/png": "[encoded data removed]",
      "text/plain": [
       "<matplotlib.figure.Figure at 0x2722fdd7198>"
      ]
     },
     "metadata": {},
     "output_type": "display_data"
    }
   ],
   "source": [
    "#graph of hyperparameter alpha versus accuracy tf-idf\n",
    "plt.plot(listNumber_tfidf, cv_scores_tfidf)\n",
    "\n",
    "# for xy in zip(listNumber, np.round(cv_scores,3)):\n",
    "#     plt.annotate('(%s, %s)' % xy, xy=xy, textcoords='data')\n",
    "\n",
    "plt.xlabel('Hyperparameter alpha')\n",
    "plt.ylabel('accuracy tfidf')\n",
    "plt.show()"
   ]
  },
  {
   "cell_type": "markdown",
   "metadata": {},
   "source": [
    "<b>in starting with alpha value accuracy is very high but suddenly with the alpha increasing accuracy decreased and then become nearly stable.</b>"
   ]
  },
  {
   "cell_type": "code",
   "execution_count": 22,
   "metadata": {},
   "outputs": [
    {
     "data": {
      "text/plain": [
       "BernoulliNB(alpha=0.001, binarize=0.0, class_prior=None, fit_prior=True)"
      ]
     },
     "execution_count": 22,
     "metadata": {},
     "output_type": "execute_result"
    }
   ],
   "source": [
    "actualDemotfidf = BernoulliNB(alpha=0.001) \n",
    "actualDemotfidf.fit(train_review_xt,np.array(train_label_yt))"
   ]
  },
  {
   "cell_type": "code",
   "execution_count": 23,
   "metadata": {
    "collapsed": true
   },
   "outputs": [],
   "source": [
    "predicted_tfidf= actualDemotfidf.predict(test_review_xt)"
   ]
  },
  {
   "cell_type": "code",
   "execution_count": 24,
   "metadata": {},
   "outputs": [
    {
     "data": {
      "text/plain": [
       "0.8906564639548933"
      ]
     },
     "execution_count": 24,
     "metadata": {},
     "output_type": "execute_result"
    }
   ],
   "source": [
    "accuracy_score(test_label_yt, predicted_tfidf)"
   ]
  },
  {
   "cell_type": "markdown",
   "metadata": {},
   "source": [
    "<b>accuracy_score for TF-iDF with alpha 0.001 is 0.890</b>"
   ]
  },
  {
   "cell_type": "code",
   "execution_count": 25,
   "metadata": {},
   "outputs": [
    {
     "data": {
      "text/plain": [
       "0.9354340071343639"
      ]
     },
     "execution_count": 25,
     "metadata": {},
     "output_type": "execute_result"
    }
   ],
   "source": [
    "f1_score(test_label_yt, predicted_tfidf)"
   ]
  },
  {
   "cell_type": "markdown",
   "metadata": {},
   "source": [
    "<b>f1 score for TF-iDF is 0.935</b>\n"
   ]
  },
  {
   "cell_type": "code",
   "execution_count": 26,
   "metadata": {},
   "outputs": [
    {
     "data": {
      "text/plain": [
       "array([[10769,  8312],\n",
       "       [ 3634, 86537]], dtype=int64)"
      ]
     },
     "execution_count": 26,
     "metadata": {},
     "output_type": "execute_result"
    }
   ],
   "source": [
    "confusion_matrix(test_label_yt, predicted_tfidf)"
   ]
  },
  {
   "cell_type": "code",
   "execution_count": 50,
   "metadata": {},
   "outputs": [
    {
     "name": "stdout",
     "output_type": "stream",
     "text": [
      "0.8300287121723575\n",
      "0.7620411062862491\n"
     ]
    }
   ],
   "source": [
    "print(\"precesion for TF-IDF with alpha 0.001 is\",precision_score(test_label_yt, predicted_tfidf, average=\"macro\"))\n",
    "print(\"Recall for TF-IDF with alpha 0.001 is\",recall_score(test_label_yt, predicted_tfidf, average=\"macro\"))  "
   ]
  },
  {
   "cell_type": "code",
   "execution_count": 27,
   "metadata": {},
   "outputs": [
    {
     "data": {
      "text/plain": [
       "array([10769,  8312,  3634, 86537], dtype=int64)"
      ]
     },
     "execution_count": 27,
     "metadata": {},
     "output_type": "execute_result"
    }
   ],
   "source": [
    "confusion_matrix(test_label_yt, predicted_tfidf).ravel()"
   ]
  },
  {
   "cell_type": "code",
   "execution_count": 51,
   "metadata": {},
   "outputs": [
    {
     "data": {
      "image/png": "[encoded data removed]",
      "text/plain": [
       "<matplotlib.figure.Figure at 0x27279d2a3c8>"
      ]
     },
     "metadata": {},
     "output_type": "display_data"
    }
   ],
   "source": [
    "average_precision_tfidf = average_precision_score(test_label_yt, predicted_tfidf)\n",
    "precision_tfidf, recall_tfidf, _ = precision_recall_curve(test_label_yt, predicted_tfidf)\n",
    "\n",
    "plt.step(recall_tfidf, precision_tfidf, color='b', alpha=0.2,\n",
    "         where='post')\n",
    "plt.fill_between(recall_tfidf, precision_tfidf, step='post', alpha=0.2,\n",
    "                 color='b')\n",
    "\n",
    "plt.xlabel('Recall')\n",
    "plt.ylabel('Precision')\n",
    "plt.ylim([0.0, 1.05])\n",
    "plt.xlim([0.0, 1.0])\n",
    "plt.title('Precision-Recall curve tfidf: AP={0:0.2f}'.format(\n",
    "          average_precision))\n",
    "plt.show()\n"
   ]
  },
  {
   "cell_type": "markdown",
   "metadata": {},
   "source": [
    "<b>Important features in TF-IDF.</b>"
   ]
  },
  {
   "cell_type": "code",
   "execution_count": 41,
   "metadata": {},
   "outputs": [
    {
     "name": "stdout",
     "output_type": "stream",
     "text": [
      "Important words in negative reviews\n",
      "0 14212.0 tast\n",
      "0 13957.0 like\n",
      "0 11298.0 product\n",
      "0 9807.0 one\n",
      "0 9183.0 would\n",
      "0 8750.0 tri\n",
      "0 8100.0 flavor\n",
      "0 8048.0 good\n",
      "0 7584.0 buy\n",
      "0 7171.0 get\n",
      "0 6871.0 use\n",
      "0 6560.0 dont\n",
      "0 6096.0 even\n",
      "0 5981.0 order\n",
      "0 5318.0 much\n",
      "0 5280.0 make\n",
      "0 5012.0 realli\n",
      "0 4994.0 time\n",
      "0 4867.0 love\n",
      "0 4745.0 amazon\n",
      "-----------------------------------------\n",
      "Important words in positive reviews\n",
      "1 65877.0 like\n",
      "1 64408.0 tast\n",
      "1 60613.0 love\n",
      "1 60171.0 good\n",
      "1 59088.0 great\n",
      "1 51578.0 flavor\n",
      "1 49633.0 one\n",
      "1 48724.0 use\n",
      "1 46578.0 tri\n",
      "1 45059.0 product\n",
      "1 41686.0 make\n",
      "1 39725.0 get\n",
      "1 32146.0 buy\n",
      "1 31902.0 time\n",
      "1 30539.0 would\n",
      "1 30491.0 best\n",
      "1 29958.0 find\n",
      "1 29744.0 realli\n",
      "1 28701.0 price\n",
      "1 28445.0 amazon\n"
     ]
    }
   ],
   "source": [
    "important_features(tf_idf_vect,actualDemotfidf, n=20)"
   ]
  },
  {
   "cell_type": "markdown",
   "metadata": {},
   "source": [
    "<b>Summary</b>"
   ]
  },
  {
   "cell_type": "markdown",
   "metadata": {},
   "source": [
    "<img src=\"files/Naive_Bayes.jpg\">"
   ]
  },
  {
   "cell_type": "markdown",
   "metadata": {},
   "source": [
    "<b>from above summary ,we can say that results from TF-IDF and BOW's results are almost nearer but statistical comparison says TF-IDf perfomed better.</b>"
   ]
  }
 ],
 "metadata": {
  "kernelspec": {
   "display_name": "Python 3",
   "language": "python",
   "name": "python3"
  },
  "language_info": {
   "codemirror_mode": {
    "name": "ipython",
    "version": 3
   },
   "file_extension": ".py",
   "mimetype": "text/x-python",
   "name": "python",
   "nbconvert_exporter": "python",
   "pygments_lexer": "ipython3",
   "version": "3.6.3"
  }
 },
 "nbformat": 4,
 "nbformat_minor": 2
}
