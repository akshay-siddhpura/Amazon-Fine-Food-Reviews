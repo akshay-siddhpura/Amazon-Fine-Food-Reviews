{
 "cells": [
  {
   "cell_type": "code",
   "execution_count": 1,
   "metadata": {},
   "outputs": [
    {
     "name": "stderr",
     "output_type": "stream",
     "text": [
      "C:\\Users\\asiddhpu.ORADEV\\AppData\\Local\\Continuum\\anaconda3\\lib\\site-packages\\sklearn\\cross_validation.py:41: DeprecationWarning: This module was deprecated in version 0.18 in favor of the model_selection module into which all the refactored classes and functions are moved. Also note that the interface of the new CV iterators are different from that of this module. This module will be removed in 0.20.\n",
      "  \"This module will be removed in 0.20.\", DeprecationWarning)\n"
     ]
    }
   ],
   "source": [
    "import warnings\n",
    "warnings.filterwarnings(\"ignore\")\n",
    "import numpy as np\n",
    "import pandas as pd\n",
    "import datetime\n",
    "import sqlite3\n",
    "from IPython.core.display import HTML\n",
    "from PIL import Image\n",
    "import matplotlib.pyplot as plt\n",
    "from sklearn.feature_extraction.text import CountVectorizer\n",
    "from sklearn.metrics import accuracy_score\n",
    "from sklearn.cross_validation import cross_val_score\n",
    "from sklearn import cross_validation\n",
    "from sklearn.naive_bayes import BernoulliNB\n",
    "from sklearn.naive_bayes import MultinomialNB\n",
    "from sklearn.feature_extraction.text import TfidfTransformer\n",
    "from sklearn.feature_extraction.text import TfidfVectorizer\n",
    "from sklearn.metrics import f1_score\n",
    "from sklearn.metrics import confusion_matrix\n",
    "from sklearn.metrics import precision_recall_curve\n",
    "from sklearn.metrics import average_precision_score\n",
    "from sklearn.metrics import accuracy_score, f1_score, precision_score, recall_score, classification_report, confusion_matrix\n"
   ]
  },
  {
   "cell_type": "code",
   "execution_count": 2,
   "metadata": {
    "collapsed": true
   },
   "outputs": [],
   "source": [
    "#utility functions\n",
    "#timeSplit function will seperate data in 70-30%\n",
    "def timeSplit(data):\n",
    "    noOfRows=data.shape[0]\n",
    "    seperatePoint= int(noOfRows * 0.70)\n",
    "    train_review_x=data.iloc[:seperatePoint,:]\n",
    "    test_review_x=data.iloc[seperatePoint:,:]\n",
    "    train_label_y=data_sample['Score'].iloc[:seperatePoint]\n",
    "    test_label_y=data_sample['Score'].iloc[seperatePoint:]\n",
    "    return train_review_x,test_review_x,train_label_y,test_label_y"
   ]
  },
  {
   "cell_type": "code",
   "execution_count": 3,
   "metadata": {
    "collapsed": true
   },
   "outputs": [],
   "source": [
    "#connection to already cleaned data which we have done in previous assignments and selection of data time wise \n",
    "#so we can easily do time based splitting\n",
    "conn = sqlite3.connect('finalData.sqlite')\n",
    "data_sample = pd.read_sql_query(\"select * from REVIEWS order by Time\",conn)"
   ]
  },
  {
   "cell_type": "code",
   "execution_count": 4,
   "metadata": {
    "collapsed": true
   },
   "outputs": [],
   "source": [
    "#changing class label to numeric from character\n",
    "data_sample[\"Score\"]= data_sample[\"Score\"].replace({'p':1,'n':0})"
   ]
  },
  {
   "cell_type": "code",
   "execution_count": 5,
   "metadata": {
    "collapsed": true
   },
   "outputs": [],
   "source": [
    "\n",
    "train_review_x,test_review_x,train_label_y,test_label_y=timeSplit(data_sample)\n",
    "# print(\"train_review_x :: \",train_review_x.shape)\n",
    "# print(\"test_review_x :: \",test_review_x.shape)\n",
    "# print(\"train_label_y :: \",train_label_y.shape)\n",
    "# print(\"test_label_y :: \",test_label_y.shape)\n"
   ]
  },
  {
   "cell_type": "code",
   "execution_count": 6,
   "metadata": {
    "collapsed": true
   },
   "outputs": [],
   "source": [
    "#BoW of cleaned text column in clean data\n",
    "count_vect = CountVectorizer() #in scikit-learn\n",
    "bow_counts_train_x = count_vect.fit_transform(train_review_x['CleanedText'])\n",
    "bow_counts_test_x = count_vect.transform(test_review_x['CleanedText'])\n",
    "# bow_counts_train_y = count_vect.fit_transform(train_label_y['Score'])\n",
    "# bow_counts_test_y = count_vect.fit_transform(test_label_y['Score'])"
   ]
  },
  {
   "cell_type": "markdown",
   "metadata": {},
   "source": [
    "<h1><b>Bernouli BOW</b></h1>"
   ]
  },
  {
   "cell_type": "code",
   "execution_count": 7,
   "metadata": {},
   "outputs": [
    {
     "name": "stdout",
     "output_type": "stream",
     "text": [
      "optimal_alpha 0.001\n"
     ]
    }
   ],
   "source": [
    "#10-fold cross validation for finding optimal alpha\n",
    "cv_scores = [-1]\n",
    "listNumber=[]\n",
    "def rangfunc(start,stop,step):    \n",
    "    \n",
    "    r = start\n",
    "    optimal_alpha=-1\n",
    "    while r < stop:\n",
    "        listNumber.append(r)\n",
    "        classDemo = BernoulliNB(alpha=r) \n",
    "        scores = cross_val_score(classDemo, bow_counts_train_x, train_label_y, cv=10, scoring='accuracy')\n",
    "        scores_mean=scores.mean()\n",
    "        if(scores_mean>max(cv_scores)):\n",
    "            optimal_alpha=r\n",
    "        cv_scores.append(scores_mean)\n",
    "        r += step\n",
    "    return optimal_alpha\n",
    "v=rangfunc(0.001,10,0.1)\n",
    "print(\"optimal_alpha\",v)\n"
   ]
  },
  {
   "cell_type": "code",
   "execution_count": 8,
   "metadata": {},
   "outputs": [
    {
     "data": {
      "text/plain": [
       "-1"
      ]
     },
     "execution_count": 8,
     "metadata": {},
     "output_type": "execute_result"
    }
   ],
   "source": [
    "cv_scores.pop(0)"
   ]
  },
  {
   "cell_type": "code",
   "execution_count": 9,
   "metadata": {},
   "outputs": [
    {
     "data": {
      "image/png": "[encoded data removed]",
      "text/plain": [
       "<matplotlib.figure.Figure at 0x1fe4c2906a0>"
      ]
     },
     "metadata": {},
     "output_type": "display_data"
    }
   ],
   "source": [
    "#graph of hyperparameter alpha versus accuracy\n",
    "plt.plot(listNumber, cv_scores)\n",
    "\n",
    "# for xy in zip(listNumber, np.round(cv_scores,3)):\n",
    "#     plt.annotate('(%s, %s)' % xy, xy=xy, textcoords='data')\n",
    "\n",
    "plt.xlabel('Hyperparameter alpha')\n",
    "plt.ylabel('accuracy')\n",
    "plt.show()"
   ]
  },
  {
   "cell_type": "markdown",
   "metadata": {},
   "source": [
    "<b>as the hyper parameter value increasing accuracy is decreasing.</b>"
   ]
  },
  {
   "cell_type": "code",
   "execution_count": 10,
   "metadata": {},
   "outputs": [
    {
     "data": {
      "text/plain": [
       "BernoulliNB(alpha=0.001, binarize=0.0, class_prior=None, fit_prior=True)"
      ]
     },
     "execution_count": 10,
     "metadata": {},
     "output_type": "execute_result"
    }
   ],
   "source": [
    "actualDemo = BernoulliNB(alpha=0.001) \n",
    "actualDemo.fit(bow_counts_train_x,np.array(train_label_y))"
   ]
  },
  {
   "cell_type": "code",
   "execution_count": 11,
   "metadata": {},
   "outputs": [
    {
     "data": {
      "text/plain": [
       "(254919, 94896)"
      ]
     },
     "execution_count": 11,
     "metadata": {},
     "output_type": "execute_result"
    }
   ],
   "source": [
    "bow_counts_train_x.shape"
   ]
  },
  {
   "cell_type": "code",
   "execution_count": 12,
   "metadata": {},
   "outputs": [
    {
     "data": {
      "text/plain": [
       "(109252, 94896)"
      ]
     },
     "execution_count": 12,
     "metadata": {},
     "output_type": "execute_result"
    }
   ],
   "source": [
    "bow_counts_test_x.shape"
   ]
  },
  {
   "cell_type": "code",
   "execution_count": 13,
   "metadata": {
    "collapsed": true
   },
   "outputs": [],
   "source": [
    "predicted= actualDemo.predict(bow_counts_test_x)"
   ]
  },
  {
   "cell_type": "code",
   "execution_count": 14,
   "metadata": {},
   "outputs": [
    {
     "data": {
      "text/plain": [
       "0.8807985208508768"
      ]
     },
     "execution_count": 14,
     "metadata": {},
     "output_type": "execute_result"
    }
   ],
   "source": [
    "accuracy_score(test_label_y, predicted)"
   ]
  },
  {
   "cell_type": "markdown",
   "metadata": {},
   "source": [
    "<b>accuracy_score for bag of words with alpha 0.001  is 0.874</b>"
   ]
  },
  {
   "cell_type": "code",
   "execution_count": 15,
   "metadata": {},
   "outputs": [
    {
     "data": {
      "text/plain": [
       "0.9282949471145641"
      ]
     },
     "execution_count": 15,
     "metadata": {},
     "output_type": "execute_result"
    }
   ],
   "source": [
    "f1_score(test_label_y, predicted)"
   ]
  },
  {
   "cell_type": "markdown",
   "metadata": {},
   "source": [
    "<b>f1 score for bag of words is 0.923</b>"
   ]
  },
  {
   "cell_type": "code",
   "execution_count": 16,
   "metadata": {},
   "outputs": [
    {
     "name": "stdout",
     "output_type": "stream",
     "text": [
      "precesion for BOW with alpha 0.001 is 0.7959718987147268\n",
      "Recall for BOW with alpha 0.001 is 0.7800749443528718\n"
     ]
    }
   ],
   "source": [
    "print(\"precesion for BOW with alpha 0.001 is\",precision_score(test_label_y, predicted, average=\"macro\"))\n",
    "print(\"Recall for BOW with alpha 0.001 is\",recall_score(test_label_y, predicted, average=\"macro\"))  "
   ]
  },
  {
   "cell_type": "code",
   "execution_count": 17,
   "metadata": {},
   "outputs": [
    {
     "data": {
      "text/plain": [
       "array([[11931,  7150],\n",
       "       [ 5873, 84298]], dtype=int64)"
      ]
     },
     "execution_count": 17,
     "metadata": {},
     "output_type": "execute_result"
    }
   ],
   "source": [
    "confusion_matrix(test_label_y, predicted)"
   ]
  },
  {
   "cell_type": "code",
   "execution_count": 18,
   "metadata": {},
   "outputs": [
    {
     "data": {
      "text/plain": [
       "array([11931,  7150,  5873, 84298], dtype=int64)"
      ]
     },
     "execution_count": 18,
     "metadata": {},
     "output_type": "execute_result"
    }
   ],
   "source": [
    "confusion_matrix(test_label_y, predicted).ravel()"
   ]
  },
  {
   "cell_type": "code",
   "execution_count": 19,
   "metadata": {},
   "outputs": [
    {
     "data": {
      "image/png": "[encoded data removed]",
      "text/plain": [
       "<matplotlib.figure.Figure at 0x1fe3df65198>"
      ]
     },
     "metadata": {},
     "output_type": "display_data"
    }
   ],
   "source": [
    "average_precision = average_precision_score(test_label_y, predicted)\n",
    "precision, recall, _ = precision_recall_curve(test_label_y, predicted)\n",
    "\n",
    "plt.step(recall, precision, color='b', alpha=0.2,\n",
    "         where='post')\n",
    "plt.fill_between(recall, precision, step='post', alpha=0.2,\n",
    "                 color='b')\n",
    "\n",
    "plt.xlabel('Recall')\n",
    "plt.ylabel('Precision')\n",
    "plt.ylim([0.0, 1.05])\n",
    "plt.xlim([0.0, 1.0])\n",
    "plt.title('Precision-Recall curve: AP={0:0.2f}'.format(\n",
    "          average_precision))\n",
    "plt.show()\n"
   ]
  },
  {
   "cell_type": "code",
   "execution_count": 20,
   "metadata": {
    "collapsed": true
   },
   "outputs": [],
   "source": [
    "def important_features(vectorizer,classifier,n=20):\n",
    "        class_labels = classifier.classes_\n",
    "        feature_names =vectorizer.get_feature_names()\n",
    "        topn_class1 = sorted(zip(classifier.feature_count_[0], feature_names),reverse=True)[:n]\n",
    "        topn_class2 = sorted(zip(classifier.feature_count_[1], feature_names),reverse=True)[:n]\n",
    "        print(\"Important words in negative reviews\")\n",
    "        for coef, feat in topn_class1:\n",
    "            print(class_labels[0], coef, feat)\n",
    "        print(\"-----------------------------------------\")\n",
    "        print(\"Important words in positive reviews\")\n",
    "        for coef, feat in topn_class2:\n",
    "            print(class_labels[1], coef, feat) "
   ]
  },
  {
   "cell_type": "markdown",
   "metadata": {},
   "source": [
    "<b>Important features in BOW.</b>"
   ]
  },
  {
   "cell_type": "code",
   "execution_count": 21,
   "metadata": {},
   "outputs": [
    {
     "name": "stdout",
     "output_type": "stream",
     "text": [
      "Important words in negative reviews\n",
      "0 14212.0 tast\n",
      "0 13957.0 like\n",
      "0 11298.0 product\n",
      "0 9807.0 one\n",
      "0 9183.0 would\n",
      "0 8750.0 tri\n",
      "0 8100.0 flavor\n",
      "0 8048.0 good\n",
      "0 7584.0 buy\n",
      "0 7171.0 get\n",
      "0 6871.0 use\n",
      "0 6560.0 dont\n",
      "0 6096.0 even\n",
      "0 5981.0 order\n",
      "0 5318.0 much\n",
      "0 5280.0 make\n",
      "0 5012.0 realli\n",
      "0 4994.0 time\n",
      "0 4867.0 love\n",
      "0 4745.0 amazon\n",
      "-----------------------------------------\n",
      "Important words in positive reviews\n",
      "1 65877.0 like\n",
      "1 64408.0 tast\n",
      "1 60613.0 love\n",
      "1 60171.0 good\n",
      "1 59088.0 great\n",
      "1 51578.0 flavor\n",
      "1 49633.0 one\n",
      "1 48724.0 use\n",
      "1 46578.0 tri\n",
      "1 45059.0 product\n",
      "1 41686.0 make\n",
      "1 39725.0 get\n",
      "1 32146.0 buy\n",
      "1 31902.0 time\n",
      "1 30539.0 would\n",
      "1 30491.0 best\n",
      "1 29958.0 find\n",
      "1 29744.0 realli\n",
      "1 28701.0 price\n",
      "1 28445.0 amazon\n"
     ]
    }
   ],
   "source": [
    "important_features(count_vect,actualDemo, n=20)"
   ]
  },
  {
   "cell_type": "markdown",
   "metadata": {},
   "source": [
    "<h1><b>MultinomialNB BOW</b></h1>"
   ]
  },
  {
   "cell_type": "code",
   "execution_count": 22,
   "metadata": {},
   "outputs": [
    {
     "name": "stdout",
     "output_type": "stream",
     "text": [
      "optimal_alpha MultinomialNB BOW  1.7010000000000005\n"
     ]
    }
   ],
   "source": [
    "#10-fold cross validation for finding optimal alpha\n",
    "cv_scores = [-1]\n",
    "listNumber=[]\n",
    "def rangfunc(start,stop,step):    \n",
    "    \n",
    "    r = start\n",
    "    optimal_alpha=-1\n",
    "    while r < stop:\n",
    "        listNumber.append(r)\n",
    "        classDemo = MultinomialNB(alpha=r) \n",
    "        scores = cross_val_score(classDemo, bow_counts_train_x, train_label_y, cv=10, scoring='accuracy')\n",
    "        scores_mean=scores.mean()\n",
    "        if(scores_mean>max(cv_scores)):\n",
    "            optimal_alpha=r\n",
    "        cv_scores.append(scores_mean)\n",
    "        r += step\n",
    "    return optimal_alpha\n",
    "v=rangfunc(0.001,10,0.1)\n",
    "print(\"optimal_alpha MultinomialNB BOW \",v)\n"
   ]
  },
  {
   "cell_type": "code",
   "execution_count": 23,
   "metadata": {},
   "outputs": [
    {
     "data": {
      "text/plain": [
       "-1"
      ]
     },
     "execution_count": 23,
     "metadata": {},
     "output_type": "execute_result"
    }
   ],
   "source": [
    "cv_scores.pop(0)\n"
   ]
  },
  {
   "cell_type": "code",
   "execution_count": 24,
   "metadata": {},
   "outputs": [
    {
     "data": {
      "image/png": "[encoded data removed]",
      "text/plain": [
       "<matplotlib.figure.Figure at 0x1fe4c2907b8>"
      ]
     },
     "metadata": {},
     "output_type": "display_data"
    }
   ],
   "source": [
    "#graph of hyperparameter alpha versus accuracy\n",
    "plt.plot(listNumber, cv_scores)\n",
    "\n",
    "# for xy in zip(listNumber, np.round(cv_scores,3)):\n",
    "#     plt.annotate('(%s, %s)' % xy, xy=xy, textcoords='data')\n",
    "\n",
    "plt.xlabel('Hyperparameter alpha for MultiNomial NB with BOW')\n",
    "plt.ylabel('accuracy')\n",
    "plt.show()"
   ]
  },
  {
   "cell_type": "code",
   "execution_count": 25,
   "metadata": {},
   "outputs": [
    {
     "data": {
      "text/plain": [
       "MultinomialNB(alpha=1.7010000000000005, class_prior=None, fit_prior=True)"
      ]
     },
     "execution_count": 25,
     "metadata": {},
     "output_type": "execute_result"
    }
   ],
   "source": [
    "actualDemoMulti = MultinomialNB(alpha=1.7010000000000005) \n",
    "actualDemoMulti.fit(bow_counts_train_x,np.array(train_label_y))"
   ]
  },
  {
   "cell_type": "code",
   "execution_count": 26,
   "metadata": {
    "collapsed": true
   },
   "outputs": [],
   "source": [
    "predicted= actualDemoMulti.predict(bow_counts_test_x)"
   ]
  },
  {
   "cell_type": "code",
   "execution_count": 27,
   "metadata": {},
   "outputs": [
    {
     "data": {
      "text/plain": [
       "0.8975487862922418"
      ]
     },
     "execution_count": 27,
     "metadata": {},
     "output_type": "execute_result"
    }
   ],
   "source": [
    "accuracy_score(test_label_y, predicted)"
   ]
  },
  {
   "cell_type": "markdown",
   "metadata": {},
   "source": [
    "<b>Accuracy for Multinomial NB with BOW is 0.897</b>"
   ]
  },
  {
   "cell_type": "code",
   "execution_count": 28,
   "metadata": {},
   "outputs": [
    {
     "data": {
      "text/plain": [
       "0.93946228359105"
      ]
     },
     "execution_count": 28,
     "metadata": {},
     "output_type": "execute_result"
    }
   ],
   "source": [
    "f1_score(test_label_y, predicted)"
   ]
  },
  {
   "cell_type": "markdown",
   "metadata": {},
   "source": [
    "<b>F1 score for Multinomial NB with BOW is 0.939</b>"
   ]
  },
  {
   "cell_type": "code",
   "execution_count": 30,
   "metadata": {},
   "outputs": [
    {
     "name": "stdout",
     "output_type": "stream",
     "text": [
      "precesion for MultinomialNB with BOW with alpha 1.701 is 0.8441660249874109\n",
      "Recall for MultinomialNB with BOW with alpha 1.701 is 0.7753064915876857\n"
     ]
    }
   ],
   "source": [
    "print(\"precesion for MultinomialNB with BOW with alpha 1.701 is\",precision_score(test_label_y, predicted, average=\"macro\"))\n",
    "print(\"Recall for MultinomialNB with BOW with alpha 1.701 is\",recall_score(test_label_y, predicted, average=\"macro\"))  "
   ]
  },
  {
   "cell_type": "code",
   "execution_count": 31,
   "metadata": {},
   "outputs": [
    {
     "data": {
      "text/plain": [
       "array([[11209,  7872],\n",
       "       [ 3321, 86850]], dtype=int64)"
      ]
     },
     "execution_count": 31,
     "metadata": {},
     "output_type": "execute_result"
    }
   ],
   "source": [
    "confusion_matrix(test_label_y, predicted)"
   ]
  },
  {
   "cell_type": "code",
   "execution_count": 32,
   "metadata": {},
   "outputs": [
    {
     "data": {
      "image/png": "[encoded data removed]",
      "text/plain": [
       "<matplotlib.figure.Figure at 0x1fe406d5048>"
      ]
     },
     "metadata": {},
     "output_type": "display_data"
    }
   ],
   "source": [
    "average_precision = average_precision_score(test_label_y, predicted)\n",
    "precision, recall, _ = precision_recall_curve(test_label_y, predicted)\n",
    "\n",
    "plt.step(recall, precision, color='b', alpha=0.2,\n",
    "         where='post')\n",
    "plt.fill_between(recall, precision, step='post', alpha=0.2,\n",
    "                 color='b')\n",
    "\n",
    "plt.xlabel('Recall')\n",
    "plt.ylabel('Precision')\n",
    "plt.ylim([0.0, 1.05])\n",
    "plt.xlim([0.0, 1.0])\n",
    "plt.title('Precision-Recall curve: AP={0:0.2f}'.format(\n",
    "          average_precision))\n",
    "plt.show()\n"
   ]
  },
  {
   "cell_type": "code",
   "execution_count": 33,
   "metadata": {},
   "outputs": [
    {
     "name": "stdout",
     "output_type": "stream",
     "text": [
      "Important words in negative reviews\n",
      "0 23109.0 tast\n",
      "0 21409.0 like\n",
      "0 18046.0 product\n",
      "0 13780.0 one\n",
      "0 13082.0 flavor\n",
      "0 11845.0 would\n",
      "0 11813.0 tri\n",
      "0 10045.0 good\n",
      "0 9791.0 use\n",
      "0 9787.0 coffe\n",
      "0 9073.0 get\n",
      "0 9041.0 buy\n",
      "0 8532.0 order\n",
      "0 8077.0 food\n",
      "0 7946.0 tea\n",
      "0 7772.0 dont\n",
      "0 7321.0 box\n",
      "0 7292.0 even\n",
      "0 6617.0 amazon\n",
      "0 6577.0 make\n",
      "-----------------------------------------\n",
      "Important words in positive reviews\n",
      "1 96237.0 like\n",
      "1 89224.0 tast\n",
      "1 78068.0 good\n",
      "1 76209.0 flavor\n",
      "1 74535.0 love\n",
      "1 72709.0 great\n",
      "1 71468.0 use\n",
      "1 67627.0 one\n",
      "1 61617.0 product\n",
      "1 61238.0 tea\n",
      "1 60101.0 tri\n",
      "1 53535.0 make\n",
      "1 53403.0 coffe\n",
      "1 50347.0 get\n",
      "1 44202.0 food\n",
      "1 38311.0 time\n",
      "1 37777.0 would\n",
      "1 37598.0 buy\n",
      "1 36865.0 eat\n",
      "1 36376.0 realli\n"
     ]
    }
   ],
   "source": [
    "important_features(count_vect,actualDemoMulti, n=20)"
   ]
  },
  {
   "cell_type": "markdown",
   "metadata": {},
   "source": [
    "<b>Naive Bayes with TF-IDF</b>"
   ]
  },
  {
   "cell_type": "code",
   "execution_count": 34,
   "metadata": {
    "collapsed": true
   },
   "outputs": [],
   "source": [
    "\n",
    "tf_idf_vect = TfidfVectorizer(ngram_range=(1,2))\n",
    "tfidf_train_x = tf_idf_vect.fit_transform(train_review_x['CleanedText'])\n",
    "tfidf_test_x = tf_idf_vect.transform(test_review_x['CleanedText'])\n",
    "#final_tf_idf = tf_idf_vect.fit_transform(data_sample['CleanedText'])\n"
   ]
  },
  {
   "cell_type": "code",
   "execution_count": 21,
   "metadata": {
    "collapsed": true
   },
   "outputs": [],
   "source": [
    "#train_review_xt,test_review_xt,train_label_yt,test_label_yt=timeSplit(final_tf_idf)"
   ]
  },
  {
   "cell_type": "code",
   "execution_count": 35,
   "metadata": {},
   "outputs": [
    {
     "name": "stdout",
     "output_type": "stream",
     "text": [
      "optimal_alpha for tf-idf 0.001\n"
     ]
    }
   ],
   "source": [
    "#10-fold cross validation for finding optimal alpha(tf-idf)\n",
    "cv_scores_tfidf = [-1]\n",
    "listNumber_tfidf=[]\n",
    "def rangfunc(start,stop,step):    \n",
    "    \n",
    "    r = start\n",
    "    optimal_alpha_tfidf=-1\n",
    "    while r < stop:\n",
    "        listNumber_tfidf.append(r)\n",
    "        classDemotfidf = BernoulliNB(alpha=r) \n",
    "        scores_tfidf = cross_val_score(classDemotfidf, tfidf_train_x, train_label_y, cv=10, scoring='accuracy')\n",
    "        scores_mean_tfidf=scores_tfidf.mean()\n",
    "        if(scores_mean_tfidf>max(cv_scores_tfidf)):\n",
    "            optimal_alpha_tfidf=r\n",
    "        cv_scores_tfidf.append(scores_mean_tfidf)\n",
    "        r += step\n",
    "    return optimal_alpha_tfidf\n",
    "opt_v=rangfunc(0.001,10,0.1)\n",
    "print(\"optimal_alpha for tf-idf\",opt_v)"
   ]
  },
  {
   "cell_type": "code",
   "execution_count": 36,
   "metadata": {},
   "outputs": [
    {
     "data": {
      "text/plain": [
       "-1"
      ]
     },
     "execution_count": 36,
     "metadata": {},
     "output_type": "execute_result"
    }
   ],
   "source": [
    "cv_scores_tfidf.pop(0)\n",
    "#cv_scores_tfidf"
   ]
  },
  {
   "cell_type": "code",
   "execution_count": 38,
   "metadata": {},
   "outputs": [
    {
     "data": {
      "image/png": "[encoded data removed]",
      "text/plain": [
       "<matplotlib.figure.Figure at 0x1fe081c1080>"
      ]
     },
     "metadata": {},
     "output_type": "display_data"
    }
   ],
   "source": [
    "#graph of hyperparameter alpha versus accuracy tf-idf\n",
    "plt.plot(listNumber_tfidf, cv_scores_tfidf)\n",
    "\n",
    "# for xy in zip(listNumber, np.round(cv_scores,3)):\n",
    "#     plt.annotate('(%s, %s)' % xy, xy=xy, textcoords='data')\n",
    "\n",
    "plt.xlabel('Hyperparameter alpha for BernoulliNB with TF-IDF')\n",
    "plt.ylabel('accuracy tfidf')\n",
    "plt.show()"
   ]
  },
  {
   "cell_type": "markdown",
   "metadata": {},
   "source": [
    "<b>in starting with alpha value accuracy is very high but suddenly with the alpha increasing accuracy decreased and then become nearly stable.</b>"
   ]
  },
  {
   "cell_type": "code",
   "execution_count": 39,
   "metadata": {},
   "outputs": [
    {
     "data": {
      "text/plain": [
       "BernoulliNB(alpha=0.001, binarize=0.0, class_prior=None, fit_prior=True)"
      ]
     },
     "execution_count": 39,
     "metadata": {},
     "output_type": "execute_result"
    }
   ],
   "source": [
    "actualDemotfidf = BernoulliNB(alpha=0.001) \n",
    "actualDemotfidf.fit(tfidf_train_x,np.array(train_label_y))"
   ]
  },
  {
   "cell_type": "code",
   "execution_count": 40,
   "metadata": {
    "collapsed": true
   },
   "outputs": [],
   "source": [
    "predicted_tfidf= actualDemotfidf.predict(tfidf_test_x)"
   ]
  },
  {
   "cell_type": "code",
   "execution_count": 41,
   "metadata": {},
   "outputs": [
    {
     "data": {
      "text/plain": [
       "0.8830410427269066"
      ]
     },
     "execution_count": 41,
     "metadata": {},
     "output_type": "execute_result"
    }
   ],
   "source": [
    "accuracy_score(test_label_y, predicted_tfidf)"
   ]
  },
  {
   "cell_type": "markdown",
   "metadata": {},
   "source": [
    "<b>accuracy_score for TF-iDF with alpha 0.001 is 0.890</b>"
   ]
  },
  {
   "cell_type": "code",
   "execution_count": 42,
   "metadata": {},
   "outputs": [
    {
     "data": {
      "text/plain": [
       "0.9330426854190464"
      ]
     },
     "execution_count": 42,
     "metadata": {},
     "output_type": "execute_result"
    }
   ],
   "source": [
    "f1_score(test_label_y, predicted_tfidf)"
   ]
  },
  {
   "cell_type": "markdown",
   "metadata": {},
   "source": [
    "<b>f1 score for TF-iDF is 0.935</b>\n"
   ]
  },
  {
   "cell_type": "code",
   "execution_count": 43,
   "metadata": {},
   "outputs": [
    {
     "data": {
      "text/plain": [
       "array([[ 7444, 11637],\n",
       "       [ 1141, 89030]], dtype=int64)"
      ]
     },
     "execution_count": 43,
     "metadata": {},
     "output_type": "execute_result"
    }
   ],
   "source": [
    "confusion_matrix(test_label_y, predicted_tfidf)"
   ]
  },
  {
   "cell_type": "code",
   "execution_count": 45,
   "metadata": {},
   "outputs": [
    {
     "name": "stdout",
     "output_type": "stream",
     "text": [
      "precesion for TF-IDF with alpha 0.001 is 0.8757474066150008\n",
      "Recall for TF-IDF with alpha 0.001 is 0.6887362839864313\n"
     ]
    }
   ],
   "source": [
    "print(\"precesion for TF-IDF with alpha 0.001 is\",precision_score(test_label_y, predicted_tfidf, average=\"macro\"))\n",
    "print(\"Recall for TF-IDF with alpha 0.001 is\",recall_score(test_label_y, predicted_tfidf, average=\"macro\"))  "
   ]
  },
  {
   "cell_type": "code",
   "execution_count": 46,
   "metadata": {},
   "outputs": [
    {
     "data": {
      "text/plain": [
       "array([ 7444, 11637,  1141, 89030], dtype=int64)"
      ]
     },
     "execution_count": 46,
     "metadata": {},
     "output_type": "execute_result"
    }
   ],
   "source": [
    "confusion_matrix(test_label_y, predicted_tfidf).ravel()"
   ]
  },
  {
   "cell_type": "code",
   "execution_count": 47,
   "metadata": {},
   "outputs": [
    {
     "data": {
      "image/png": "[encoded data removed]",
      "text/plain": [
       "<matplotlib.figure.Figure at 0x1fe558c5470>"
      ]
     },
     "metadata": {},
     "output_type": "display_data"
    }
   ],
   "source": [
    "average_precision_tfidf = average_precision_score(test_label_y, predicted_tfidf)\n",
    "precision_tfidf, recall_tfidf, _ = precision_recall_curve(test_label_y, predicted_tfidf)\n",
    "\n",
    "plt.step(recall_tfidf, precision_tfidf, color='b', alpha=0.2,\n",
    "         where='post')\n",
    "plt.fill_between(recall_tfidf, precision_tfidf, step='post', alpha=0.2,\n",
    "                 color='b')\n",
    "\n",
    "plt.xlabel('Recall')\n",
    "plt.ylabel('Precision')\n",
    "plt.ylim([0.0, 1.05])\n",
    "plt.xlim([0.0, 1.0])\n",
    "plt.title('Precision-Recall curve tfidf: AP={0:0.2f}'.format(\n",
    "          average_precision))\n",
    "plt.show()\n"
   ]
  },
  {
   "cell_type": "markdown",
   "metadata": {},
   "source": [
    "<b>Important features in TF-IDF.</b>"
   ]
  },
  {
   "cell_type": "code",
   "execution_count": 48,
   "metadata": {},
   "outputs": [
    {
     "name": "stdout",
     "output_type": "stream",
     "text": [
      "Important words in negative reviews\n",
      "0 14212.0 tast\n",
      "0 13957.0 like\n",
      "0 11298.0 product\n",
      "0 9807.0 one\n",
      "0 9183.0 would\n",
      "0 8750.0 tri\n",
      "0 8100.0 flavor\n",
      "0 8048.0 good\n",
      "0 7584.0 buy\n",
      "0 7171.0 get\n",
      "0 6871.0 use\n",
      "0 6560.0 dont\n",
      "0 6096.0 even\n",
      "0 5981.0 order\n",
      "0 5318.0 much\n",
      "0 5280.0 make\n",
      "0 5012.0 realli\n",
      "0 4994.0 time\n",
      "0 4867.0 love\n",
      "0 4745.0 amazon\n",
      "-----------------------------------------\n",
      "Important words in positive reviews\n",
      "1 65877.0 like\n",
      "1 64408.0 tast\n",
      "1 60613.0 love\n",
      "1 60171.0 good\n",
      "1 59088.0 great\n",
      "1 51578.0 flavor\n",
      "1 49633.0 one\n",
      "1 48724.0 use\n",
      "1 46578.0 tri\n",
      "1 45059.0 product\n",
      "1 41686.0 make\n",
      "1 39725.0 get\n",
      "1 32146.0 buy\n",
      "1 31902.0 time\n",
      "1 30539.0 would\n",
      "1 30491.0 best\n",
      "1 29958.0 find\n",
      "1 29744.0 realli\n",
      "1 28701.0 price\n",
      "1 28445.0 amazon\n"
     ]
    }
   ],
   "source": [
    "important_features(tf_idf_vect,actualDemotfidf, n=20)"
   ]
  },
  {
   "cell_type": "markdown",
   "metadata": {},
   "source": [
    "<h1><b>TF-IDF with MultiNomial</b></h1>"
   ]
  },
  {
   "cell_type": "code",
   "execution_count": 49,
   "metadata": {},
   "outputs": [
    {
     "name": "stdout",
     "output_type": "stream",
     "text": [
      "optimal_alpha for tf-idf MultinomialNB 0.001\n"
     ]
    }
   ],
   "source": [
    "#10-fold cross validation for finding optimal alpha(tf-idf)\n",
    "cv_scores_tfidf = [-1]\n",
    "listNumber_tfidf=[]\n",
    "def rangfunc(start,stop,step):    \n",
    "    \n",
    "    r = start\n",
    "    optimal_alpha_tfidf=-1\n",
    "    while r < stop:\n",
    "        listNumber_tfidf.append(r)\n",
    "        classDemotfidf = MultinomialNB(alpha=r) \n",
    "        scores_tfidf = cross_val_score(classDemotfidf, tfidf_train_x, train_label_y, cv=10, scoring='accuracy')\n",
    "        scores_mean_tfidf=scores_tfidf.mean()\n",
    "        if(scores_mean_tfidf>max(cv_scores_tfidf)):\n",
    "            optimal_alpha_tfidf=r\n",
    "        cv_scores_tfidf.append(scores_mean_tfidf)\n",
    "        r += step\n",
    "    return optimal_alpha_tfidf\n",
    "opt_v=rangfunc(0.001,10,0.1)\n",
    "print(\"optimal_alpha for tf-idf MultinomialNB\",opt_v)"
   ]
  },
  {
   "cell_type": "code",
   "execution_count": 50,
   "metadata": {},
   "outputs": [
    {
     "data": {
      "text/plain": [
       "-1"
      ]
     },
     "execution_count": 50,
     "metadata": {},
     "output_type": "execute_result"
    }
   ],
   "source": [
    "cv_scores_tfidf.pop(0)"
   ]
  },
  {
   "cell_type": "code",
   "execution_count": 51,
   "metadata": {},
   "outputs": [
    {
     "data": {
      "image/png": "[encoded data removed]",
      "text/plain": [
       "<matplotlib.figure.Figure at 0x1fe174beb38>"
      ]
     },
     "metadata": {},
     "output_type": "display_data"
    }
   ],
   "source": [
    "#graph of hyperparameter alpha(Multinomial NB) versus accuracy tf-idf \n",
    "plt.plot(listNumber_tfidf, cv_scores_tfidf)\n",
    "\n",
    "# for xy in zip(listNumber, np.round(cv_scores,3)):\n",
    "#     plt.annotate('(%s, %s)' % xy, xy=xy, textcoords='data')\n",
    "\n",
    "plt.xlabel('Hyperparameter alpha Multinomial NB with TF-IDF')\n",
    "plt.ylabel('accuracy tfidf')\n",
    "plt.show()"
   ]
  },
  {
   "cell_type": "markdown",
   "metadata": {},
   "source": [
    "<b>As the alpha increases accuracy decreases and after one level it became stable.</b>"
   ]
  },
  {
   "cell_type": "code",
   "execution_count": 52,
   "metadata": {},
   "outputs": [
    {
     "data": {
      "text/plain": [
       "MultinomialNB(alpha=0.001, class_prior=None, fit_prior=True)"
      ]
     },
     "execution_count": 52,
     "metadata": {},
     "output_type": "execute_result"
    }
   ],
   "source": [
    "Multinomialtfidf = MultinomialNB(alpha=0.001) \n",
    "Multinomialtfidf.fit(tfidf_train_x,np.array(train_label_y))"
   ]
  },
  {
   "cell_type": "code",
   "execution_count": 53,
   "metadata": {
    "collapsed": true
   },
   "outputs": [],
   "source": [
    "predicted_multi_tfidf= Multinomialtfidf.predict(tfidf_test_x)"
   ]
  },
  {
   "cell_type": "code",
   "execution_count": 54,
   "metadata": {},
   "outputs": [
    {
     "data": {
      "text/plain": [
       "0.8761304140885293"
      ]
     },
     "execution_count": 54,
     "metadata": {},
     "output_type": "execute_result"
    }
   ],
   "source": [
    "accuracy_score(test_label_y, predicted_multi_tfidf)"
   ]
  },
  {
   "cell_type": "code",
   "execution_count": 55,
   "metadata": {},
   "outputs": [
    {
     "data": {
      "text/plain": [
       "0.9295688152176741"
      ]
     },
     "execution_count": 55,
     "metadata": {},
     "output_type": "execute_result"
    }
   ],
   "source": [
    "f1_score(test_label_y, predicted_multi_tfidf)"
   ]
  },
  {
   "cell_type": "code",
   "execution_count": 56,
   "metadata": {},
   "outputs": [
    {
     "data": {
      "text/plain": [
       "array([[ 6413, 12668],\n",
       "       [  865, 89306]], dtype=int64)"
      ]
     },
     "execution_count": 56,
     "metadata": {},
     "output_type": "execute_result"
    }
   ],
   "source": [
    "confusion_matrix(test_label_y, predicted_multi_tfidf)"
   ]
  },
  {
   "cell_type": "code",
   "execution_count": 57,
   "metadata": {},
   "outputs": [
    {
     "name": "stdout",
     "output_type": "stream",
     "text": [
      "precesion for Multinomial NB TF-IDF with alpha 0.001 is 0.8784604614446414\n",
      "Recall for Multinomial NBTF-IDF with alpha 0.001 is 0.6632503057588436\n"
     ]
    }
   ],
   "source": [
    "print(\"precesion for Multinomial NB TF-IDF with alpha 0.001 is\",precision_score(test_label_y, predicted_multi_tfidf, average=\"macro\"))\n",
    "print(\"Recall for Multinomial NBTF-IDF with alpha 0.001 is\",recall_score(test_label_y, predicted_multi_tfidf, average=\"macro\"))"
   ]
  },
  {
   "cell_type": "code",
   "execution_count": 58,
   "metadata": {},
   "outputs": [
    {
     "data": {
      "text/plain": [
       "array([ 6413, 12668,   865, 89306], dtype=int64)"
      ]
     },
     "execution_count": 58,
     "metadata": {},
     "output_type": "execute_result"
    }
   ],
   "source": [
    "confusion_matrix(test_label_y, predicted_multi_tfidf).ravel()"
   ]
  },
  {
   "cell_type": "code",
   "execution_count": 59,
   "metadata": {},
   "outputs": [
    {
     "data": {
      "image/png": "[encoded data removed]",
      "text/plain": [
       "<matplotlib.figure.Figure at 0x1fe72efd940>"
      ]
     },
     "metadata": {},
     "output_type": "display_data"
    }
   ],
   "source": [
    "average_precision_tfidf = average_precision_score(test_label_y, predicted_multi_tfidf)\n",
    "precision_tfidf, recall_tfidf, _ = precision_recall_curve(test_label_y, predicted_multi_tfidf)\n",
    "\n",
    "plt.step(recall_tfidf, precision_tfidf, color='b', alpha=0.2,\n",
    "         where='post')\n",
    "plt.fill_between(recall_tfidf, precision_tfidf, step='post', alpha=0.2,\n",
    "                 color='b')\n",
    "\n",
    "plt.xlabel('Recall')\n",
    "plt.ylabel('Precision')\n",
    "plt.ylim([0.0, 1.05])\n",
    "plt.xlim([0.0, 1.0])\n",
    "plt.title('Precision-Recall curve tfidf: AP={0:0.2f}'.format(\n",
    "          average_precision))\n",
    "plt.show()\n"
   ]
  },
  {
   "cell_type": "code",
   "execution_count": 60,
   "metadata": {},
   "outputs": [
    {
     "name": "stdout",
     "output_type": "stream",
     "text": [
      "Important words in negative reviews\n",
      "0 702.5294369750587 tast\n",
      "0 611.5409165277913 like\n",
      "0 584.5851597983036 product\n",
      "0 434.65716925607023 would\n",
      "0 423.7815435723929 flavor\n",
      "0 422.2659644262646 coffe\n",
      "0 417.09782234229004 one\n",
      "0 374.89223930491465 tri\n",
      "0 365.6047308135317 buy\n",
      "0 364.26960891611515 order\n",
      "0 333.20703149737835 box\n",
      "0 331.0171620293959 tea\n",
      "0 312.21158773786703 good\n",
      "0 311.5595158110192 disappoint\n",
      "0 305.62962439323456 dont\n",
      "0 304.5876943574383 get\n",
      "0 290.47512708684934 use\n",
      "0 281.167342850309 even\n",
      "0 274.0170828160202 food\n",
      "0 267.2620531593663 bag\n",
      "-----------------------------------------\n",
      "Important words in positive reviews\n",
      "1 2994.3081056968003 great\n",
      "1 2973.909100686317 love\n",
      "1 2830.22714140017 tast\n",
      "1 2817.226967950082 tea\n",
      "1 2815.719257462234 like\n",
      "1 2798.574630018744 good\n",
      "1 2634.5876137785017 flavor\n",
      "1 2563.5225473578985 coffe\n",
      "1 2381.5295699405483 use\n",
      "1 2347.2407939345608 product\n",
      "1 2175.4504586399185 one\n",
      "1 2033.7859436818476 tri\n",
      "1 1918.1847714703808 make\n",
      "1 1792.479975673457 get\n",
      "1 1704.3142503834938 best\n",
      "1 1687.5977619205598 price\n",
      "1 1654.5146772280766 food\n",
      "1 1650.2862806916196 buy\n",
      "1 1608.731860651894 find\n",
      "1 1544.1328149113558 time\n"
     ]
    }
   ],
   "source": [
    "important_features(tf_idf_vect,Multinomialtfidf, n=20)"
   ]
  },
  {
   "cell_type": "markdown",
   "metadata": {},
   "source": [
    "<b>Summary</b>"
   ]
  },
  {
   "cell_type": "markdown",
   "metadata": {},
   "source": [
    "<img src=\"files/Naive_Bayes_Summary.jpg\">"
   ]
  }
 ],
 "metadata": {
  "kernelspec": {
   "display_name": "Python 3",
   "language": "python",
   "name": "python3"
  },
  "language_info": {
   "codemirror_mode": {
    "name": "ipython",
    "version": 3
   },
   "file_extension": ".py",
   "mimetype": "text/x-python",
   "name": "python",
   "nbconvert_exporter": "python",
   "pygments_lexer": "ipython3",
   "version": "3.6.3"
  }
 },
 "nbformat": 4,
 "nbformat_minor": 2
}
